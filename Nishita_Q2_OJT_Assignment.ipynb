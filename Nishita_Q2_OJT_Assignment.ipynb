{
  "nbformat": 4,
  "nbformat_minor": 0,
  "metadata": {
    "colab": {
      "provenance": []
    },
    "kernelspec": {
      "name": "python3",
      "display_name": "Python 3"
    },
    "language_info": {
      "name": "python"
    }
  },
  "cells": [
    {
      "cell_type": "markdown",
      "source": [
        "Q2. Row Echelon Form:"
      ],
      "metadata": {
        "id": "cKfy4vlKoCTQ"
      }
    },
    {
      "cell_type": "code",
      "source": [
        "import numpy as np"
      ],
      "metadata": {
        "id": "hN-iB35hoFFZ"
      },
      "execution_count": 1,
      "outputs": []
    },
    {
      "cell_type": "code",
      "source": [
        "# Setting up random seed\n",
        "np.random.seed(37)\n",
        "\n",
        "# Create a random 5x5 matrix A with integers between 0 and 9\n",
        "A = np.random.randint(0, 10, size=(5, 5))\n",
        "\n",
        "print(\"Original Matrix A:\")\n",
        "print(A)"
      ],
      "metadata": {
        "colab": {
          "base_uri": "https://localhost:8080/"
        },
        "id": "9Ew8sqaIoH4x",
        "outputId": "88bf4d06-7ae3-44a9-8cb6-b800ad8007f2"
      },
      "execution_count": 2,
      "outputs": [
        {
          "output_type": "stream",
          "name": "stdout",
          "text": [
            "Original Matrix A:\n",
            "[[5 6 3 3 5]\n",
            " [8 5 7 8 8]\n",
            " [3 2 8 1 8]\n",
            " [3 8 4 1 3]\n",
            " [2 3 3 2 9]]\n"
          ]
        }
      ]
    },
    {
      "cell_type": "code",
      "source": [
        "# Perform elementary row operations to reduce A to row echelon form\n",
        "for i in range(min(A.shape)):\n",
        "    # Find the pivot\n",
        "    pivot_index = np.argmax(A[i:, i]) + i\n",
        "    # Swap rows if necessary\n",
        "    if pivot_index != i:\n",
        "        A[[i, pivot_index]] = A[[pivot_index, i]]\n",
        "    # Make the pivot entry 1\n",
        "    A[i] = A[i] / A[i, i]\n",
        "    # Eliminate entries below the pivot\n",
        "    for j in range(i + 1, A.shape[0]):\n",
        "        A[j] = A[j] - A[j, i] * A[i]\n",
        "\n",
        "print(\"\\nRow Echelon Form of Matrix A:\")\n",
        "print(A)"
      ],
      "metadata": {
        "colab": {
          "base_uri": "https://localhost:8080/"
        },
        "id": "qEpem4xloKyj",
        "outputId": "e160587a-8eab-465f-dd5b-f773737b95b1"
      },
      "execution_count": 3,
      "outputs": [
        {
          "output_type": "stream",
          "name": "stdout",
          "text": [
            "\n",
            "Row Echelon Form of Matrix A:\n",
            "[[                   1                    0                    0\n",
            "                     1                    1]\n",
            " [                   0                    1                    0\n",
            "                     0                    0]\n",
            " [                   0                    0                    1\n",
            "                     0                    0]\n",
            " [-9223372036854775808 -9223372036854775808 -9223372036854775808\n",
            "  -9223372036854775808 -9223372036854775808]\n",
            " [-9223372036854775808 -9223372036854775808 -9223372036854775808\n",
            "  -9223372036854775808 -9223372036854775808]]\n"
          ]
        },
        {
          "output_type": "stream",
          "name": "stderr",
          "text": [
            "<ipython-input-3-8eb4de6be1b0>:9: RuntimeWarning: divide by zero encountered in divide\n",
            "  A[i] = A[i] / A[i, i]\n",
            "<ipython-input-3-8eb4de6be1b0>:9: RuntimeWarning: invalid value encountered in divide\n",
            "  A[i] = A[i] / A[i, i]\n",
            "<ipython-input-3-8eb4de6be1b0>:9: RuntimeWarning: invalid value encountered in cast\n",
            "  A[i] = A[i] / A[i, i]\n"
          ]
        }
      ]
    }
  ]
}